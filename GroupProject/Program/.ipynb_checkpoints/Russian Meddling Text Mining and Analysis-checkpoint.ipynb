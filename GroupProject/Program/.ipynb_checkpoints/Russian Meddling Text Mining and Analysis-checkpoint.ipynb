{
 "cells": [
  {
   "cell_type": "code",
   "execution_count": 1,
   "metadata": {
    "colab": {},
    "colab_type": "code",
    "id": "Kb4u3Yb97qzf"
   },
   "outputs": [],
   "source": [
    "#Imports\n",
    "import pandas as pd\n",
    "import numpy as np\n",
    "import matplotlib.pyplot as plt\n",
    "import seaborn as sns\n",
    "import sklearn\n",
    "import re\n",
    "import matplotlib.pyplot as plt\n",
    "import glob, os    \n",
    "\n",
    "\n",
    "\n"
   ]
  },
  {
   "cell_type": "code",
   "execution_count": 2,
   "metadata": {
    "colab": {
     "base_uri": "https://localhost:8080/",
     "height": 715
    },
    "colab_type": "code",
    "id": "Jwts2ZYs7qzp",
    "outputId": "b34aa793-8188-4dd8-c244-29057ddaeb96"
   },
   "outputs": [
    {
     "name": "stderr",
     "output_type": "stream",
     "text": [
      "/anaconda3/lib/python3.6/site-packages/IPython/core/interactiveshell.py:3267: DtypeWarning: Columns (0,15,20) have mixed types. Specify dtype option on import or set low_memory=False.\n",
      "  exec(code_obj, self.user_global_ns, self.user_ns)\n",
      "/anaconda3/lib/python3.6/site-packages/IPython/core/interactiveshell.py:3267: DtypeWarning: Columns (10,20) have mixed types. Specify dtype option on import or set low_memory=False.\n",
      "  exec(code_obj, self.user_global_ns, self.user_ns)\n",
      "/anaconda3/lib/python3.6/site-packages/IPython/core/interactiveshell.py:3267: DtypeWarning: Columns (20) have mixed types. Specify dtype option on import or set low_memory=False.\n",
      "  exec(code_obj, self.user_global_ns, self.user_ns)\n"
     ]
    },
    {
     "data": {
      "text/html": [
       "<div>\n",
       "<style scoped>\n",
       "    .dataframe tbody tr th:only-of-type {\n",
       "        vertical-align: middle;\n",
       "    }\n",
       "\n",
       "    .dataframe tbody tr th {\n",
       "        vertical-align: top;\n",
       "    }\n",
       "\n",
       "    .dataframe thead th {\n",
       "        text-align: right;\n",
       "    }\n",
       "</style>\n",
       "<table border=\"1\" class=\"dataframe\">\n",
       "  <thead>\n",
       "    <tr style=\"text-align: right;\">\n",
       "      <th></th>\n",
       "      <th>external_author_id</th>\n",
       "      <th>author</th>\n",
       "      <th>content</th>\n",
       "      <th>region</th>\n",
       "      <th>language</th>\n",
       "      <th>publish_date</th>\n",
       "      <th>harvested_date</th>\n",
       "      <th>following</th>\n",
       "      <th>followers</th>\n",
       "      <th>updates</th>\n",
       "      <th>...</th>\n",
       "      <th>account_type</th>\n",
       "      <th>retweet</th>\n",
       "      <th>account_category</th>\n",
       "      <th>new_june_2018</th>\n",
       "      <th>alt_external_id</th>\n",
       "      <th>tweet_id</th>\n",
       "      <th>article_url</th>\n",
       "      <th>tco1_step1</th>\n",
       "      <th>tco2_step1</th>\n",
       "      <th>tco3_step1</th>\n",
       "    </tr>\n",
       "  </thead>\n",
       "  <tbody>\n",
       "    <tr>\n",
       "      <th>0</th>\n",
       "      <td>2495567768</td>\n",
       "      <td>DAILYSANFRAN</td>\n",
       "      <td>Police: Airline pilot found passed out in cock...</td>\n",
       "      <td>United States</td>\n",
       "      <td>English</td>\n",
       "      <td>1/2/2017 14:39</td>\n",
       "      <td>1/2/2017 14:39</td>\n",
       "      <td>4577</td>\n",
       "      <td>16782</td>\n",
       "      <td>34960</td>\n",
       "      <td>...</td>\n",
       "      <td>local</td>\n",
       "      <td>0</td>\n",
       "      <td>NewsFeed</td>\n",
       "      <td>0</td>\n",
       "      <td>2495567768</td>\n",
       "      <td>815930489311789056</td>\n",
       "      <td>http://twitter.com/2495567768/statuses/8159304...</td>\n",
       "      <td>https://twitter.com/DailySanFran/status/815930...</td>\n",
       "      <td>http://kron4.com/2017/01/02/police-airline-pil...</td>\n",
       "      <td>NaN</td>\n",
       "    </tr>\n",
       "    <tr>\n",
       "      <th>1</th>\n",
       "      <td>2495567768</td>\n",
       "      <td>DAILYSANFRAN</td>\n",
       "      <td>Dashcam video shows man launching himself onto...</td>\n",
       "      <td>United States</td>\n",
       "      <td>English</td>\n",
       "      <td>1/2/2017 15:39</td>\n",
       "      <td>1/2/2017 15:39</td>\n",
       "      <td>4577</td>\n",
       "      <td>16782</td>\n",
       "      <td>34961</td>\n",
       "      <td>...</td>\n",
       "      <td>local</td>\n",
       "      <td>0</td>\n",
       "      <td>NewsFeed</td>\n",
       "      <td>0</td>\n",
       "      <td>2495567768</td>\n",
       "      <td>815945595546431488</td>\n",
       "      <td>http://twitter.com/2495567768/statuses/8159455...</td>\n",
       "      <td>https://twitter.com/DailySanFran/status/815945...</td>\n",
       "      <td>http://kron4.com/2017/01/02/dashcam-video-show...</td>\n",
       "      <td>NaN</td>\n",
       "    </tr>\n",
       "    <tr>\n",
       "      <th>2</th>\n",
       "      <td>2495567768</td>\n",
       "      <td>DAILYSANFRAN</td>\n",
       "      <td>Man Arrested For Setting Fire To South SF Medi...</td>\n",
       "      <td>United States</td>\n",
       "      <td>English</td>\n",
       "      <td>1/2/2017 16:19</td>\n",
       "      <td>1/2/2017 16:19</td>\n",
       "      <td>4577</td>\n",
       "      <td>16782</td>\n",
       "      <td>34962</td>\n",
       "      <td>...</td>\n",
       "      <td>local</td>\n",
       "      <td>0</td>\n",
       "      <td>NewsFeed</td>\n",
       "      <td>0</td>\n",
       "      <td>2495567768</td>\n",
       "      <td>815955659963432960</td>\n",
       "      <td>http://twitter.com/2495567768/statuses/8159556...</td>\n",
       "      <td>https://twitter.com/DailySanFran/status/815955...</td>\n",
       "      <td>http://sanfrancisco.cbslocal.com/2017/01/02/ma...</td>\n",
       "      <td>NaN</td>\n",
       "    </tr>\n",
       "    <tr>\n",
       "      <th>3</th>\n",
       "      <td>2495567768</td>\n",
       "      <td>DAILYSANFRAN</td>\n",
       "      <td>Practical tips to achieving your New Year's re...</td>\n",
       "      <td>United States</td>\n",
       "      <td>English</td>\n",
       "      <td>1/2/2017 16:29</td>\n",
       "      <td>1/2/2017 16:29</td>\n",
       "      <td>4577</td>\n",
       "      <td>16782</td>\n",
       "      <td>34963</td>\n",
       "      <td>...</td>\n",
       "      <td>local</td>\n",
       "      <td>0</td>\n",
       "      <td>NewsFeed</td>\n",
       "      <td>0</td>\n",
       "      <td>2495567768</td>\n",
       "      <td>815958175593730049</td>\n",
       "      <td>http://twitter.com/2495567768/statuses/8159581...</td>\n",
       "      <td>https://twitter.com/DailySanFran/status/815958...</td>\n",
       "      <td>http://abc7news.com/society/practical-tips-to-...</td>\n",
       "      <td>NaN</td>\n",
       "    </tr>\n",
       "    <tr>\n",
       "      <th>4</th>\n",
       "      <td>2495567768</td>\n",
       "      <td>DAILYSANFRAN</td>\n",
       "      <td>Couple disappears during trip to Big Sur https...</td>\n",
       "      <td>United States</td>\n",
       "      <td>English</td>\n",
       "      <td>1/2/2017 16:39</td>\n",
       "      <td>1/2/2017 16:39</td>\n",
       "      <td>4577</td>\n",
       "      <td>16781</td>\n",
       "      <td>34964</td>\n",
       "      <td>...</td>\n",
       "      <td>local</td>\n",
       "      <td>0</td>\n",
       "      <td>NewsFeed</td>\n",
       "      <td>0</td>\n",
       "      <td>2495567768</td>\n",
       "      <td>815960697800626176</td>\n",
       "      <td>http://twitter.com/2495567768/statuses/8159606...</td>\n",
       "      <td>https://twitter.com/DailySanFran/status/815960...</td>\n",
       "      <td>http://kron4.com/2017/01/02/couple-disappears-...</td>\n",
       "      <td>NaN</td>\n",
       "    </tr>\n",
       "  </tbody>\n",
       "</table>\n",
       "<p>5 rows × 21 columns</p>\n",
       "</div>"
      ],
      "text/plain": [
       "  external_author_id        author  \\\n",
       "0         2495567768  DAILYSANFRAN   \n",
       "1         2495567768  DAILYSANFRAN   \n",
       "2         2495567768  DAILYSANFRAN   \n",
       "3         2495567768  DAILYSANFRAN   \n",
       "4         2495567768  DAILYSANFRAN   \n",
       "\n",
       "                                             content         region language  \\\n",
       "0  Police: Airline pilot found passed out in cock...  United States  English   \n",
       "1  Dashcam video shows man launching himself onto...  United States  English   \n",
       "2  Man Arrested For Setting Fire To South SF Medi...  United States  English   \n",
       "3  Practical tips to achieving your New Year's re...  United States  English   \n",
       "4  Couple disappears during trip to Big Sur https...  United States  English   \n",
       "\n",
       "     publish_date  harvested_date  following  followers  updates  ...  \\\n",
       "0  1/2/2017 14:39  1/2/2017 14:39       4577      16782    34960  ...   \n",
       "1  1/2/2017 15:39  1/2/2017 15:39       4577      16782    34961  ...   \n",
       "2  1/2/2017 16:19  1/2/2017 16:19       4577      16782    34962  ...   \n",
       "3  1/2/2017 16:29  1/2/2017 16:29       4577      16782    34963  ...   \n",
       "4  1/2/2017 16:39  1/2/2017 16:39       4577      16781    34964  ...   \n",
       "\n",
       "  account_type retweet  account_category new_june_2018  alt_external_id  \\\n",
       "0        local       0          NewsFeed             0       2495567768   \n",
       "1        local       0          NewsFeed             0       2495567768   \n",
       "2        local       0          NewsFeed             0       2495567768   \n",
       "3        local       0          NewsFeed             0       2495567768   \n",
       "4        local       0          NewsFeed             0       2495567768   \n",
       "\n",
       "             tweet_id                                        article_url  \\\n",
       "0  815930489311789056  http://twitter.com/2495567768/statuses/8159304...   \n",
       "1  815945595546431488  http://twitter.com/2495567768/statuses/8159455...   \n",
       "2  815955659963432960  http://twitter.com/2495567768/statuses/8159556...   \n",
       "3  815958175593730049  http://twitter.com/2495567768/statuses/8159581...   \n",
       "4  815960697800626176  http://twitter.com/2495567768/statuses/8159606...   \n",
       "\n",
       "                                          tco1_step1  \\\n",
       "0  https://twitter.com/DailySanFran/status/815930...   \n",
       "1  https://twitter.com/DailySanFran/status/815945...   \n",
       "2  https://twitter.com/DailySanFran/status/815955...   \n",
       "3  https://twitter.com/DailySanFran/status/815958...   \n",
       "4  https://twitter.com/DailySanFran/status/815960...   \n",
       "\n",
       "                                          tco2_step1 tco3_step1  \n",
       "0  http://kron4.com/2017/01/02/police-airline-pil...        NaN  \n",
       "1  http://kron4.com/2017/01/02/dashcam-video-show...        NaN  \n",
       "2  http://sanfrancisco.cbslocal.com/2017/01/02/ma...        NaN  \n",
       "3  http://abc7news.com/society/practical-tips-to-...        NaN  \n",
       "4  http://kron4.com/2017/01/02/couple-disappears-...        NaN  \n",
       "\n",
       "[5 rows x 21 columns]"
      ]
     },
     "execution_count": 2,
     "metadata": {},
     "output_type": "execute_result"
    }
   ],
   "source": [
    "#Combine all 3 Million Records to One Large Data Frame spread over Multiple .csv Files\n",
    "df = pd.concat(map(pd.read_csv, glob.glob(os.path.join('', \"*.csv\"))))\n",
    "df.head()"
   ]
  },
  {
   "cell_type": "code",
   "execution_count": null,
   "metadata": {
    "colab": {},
    "colab_type": "code",
    "id": "qAlBr4fA7qzz"
   },
   "outputs": [],
   "source": [
    "# Convert Date Format to DateTime So that we can easily Filter Data based on time\n",
    "df[\"publish_date\"] = df[\"publish_date\"].astype(\"datetime64\")"
   ]
  },
  {
   "cell_type": "code",
   "execution_count": 0,
   "metadata": {
    "colab": {
     "base_uri": "https://localhost:8080/",
     "height": 708
    },
    "colab_type": "code",
    "id": "pPnjM7Kq7qz7",
    "outputId": "41035329-9a02-43b7-d2fa-a0efee533dbc",
    "scrolled": false
   },
   "outputs": [
    {
     "data": {
      "text/plain": [
       "Text(0, 0.5, 'Count')"
      ]
     },
     "execution_count": 4,
     "metadata": {
      "tags": []
     },
     "output_type": "execute_result"
    },
    {
     "data": {
      "image/png": "[encoded data removed]",
      "text/plain": [
       "<Figure size 1440x720 with 1 Axes>"
      ]
     },
     "metadata": {
      "tags": []
     },
     "output_type": "display_data"
    }
   ],
   "source": [
    "#Plot Entire data based on Months\n",
    "number_plot = df[\"content\"].groupby([df[\"publish_date\"].dt.year, df[\"publish_date\"].dt.month]).count().plot(kind=\"bar\", figsize=(20,10))\n",
    "number_plot.set_xlabel(\"Tweets\")\n",
    "number_plot.set_ylabel(\"Count\")"
   ]
  },
  {
   "cell_type": "code",
   "execution_count": 0,
   "metadata": {
    "colab": {},
    "colab_type": "code",
    "id": "z4CrUjAT7q0E"
   },
   "outputs": [],
   "source": [
    "#Important Observations \n",
    "\n",
    "# Ground work for the medling started way back in late 2014\n",
    "# First Peak was around July 2015\n",
    "# Consistent Tweets in the months leading upto the election (Peaks in November)\n",
    "# Unexpected Result :\n",
    "# Tweeting Increased after the elections suggesting that this not just election meddling but  \n",
    "# a larger effort to undermine the politics in the US \n",
    "# Dive deeper with this information to find more Patterns\n",
    "\n",
    "\n",
    "#Intresting Months \n",
    "# July 2015\n",
    "# November 2015\n",
    "# Semptember 2016\n",
    "# October 2016\n",
    "# November 2016\n",
    "# August 2017\n"
   ]
  },
  {
   "cell_type": "code",
   "execution_count": 0,
   "metadata": {
    "colab": {
     "base_uri": "https://localhost:8080/",
     "height": 646
    },
    "colab_type": "code",
    "id": "CuIc7Ekj7q0L",
    "outputId": "70532802-2744-4e70-a77b-19cf6f528212"
   },
   "outputs": [
    {
     "data": {
      "text/plain": [
       "Text(0, 0.5, 'Count')"
      ]
     },
     "execution_count": 5,
     "metadata": {
      "tags": []
     },
     "output_type": "execute_result"
    },
    {
     "data": {
      "image/png": "[encoded data removed]",
      "text/plain": [
       "<Figure size 1440x720 with 1 Axes>"
      ]
     },
     "metadata": {
      "tags": []
     },
     "output_type": "display_data"
    }
   ],
   "source": [
    "#Plot Entire data based on Months\n",
    "number_plot = df[\"content\"].groupby([df[\"publish_date\"].dt.year, df[\"publish_date\"].dt.month, df[\"publish_date\"].dt.day  ]).count().plot(figsize=(20,10))\n",
    "number_plot.set_xlabel(\"Tweets\")\n",
    "number_plot.set_ylabel(\"Count\")\n",
    "#number_plot.axes.get_xaxis().set_visible(False)\n"
   ]
  },
  {
   "cell_type": "code",
   "execution_count": 0,
   "metadata": {
    "colab": {},
    "colab_type": "code",
    "id": "u_VpcgkZ7q0Q"
   },
   "outputs": [],
   "source": [
    "#We see a huge Spike in October 2016 Specifically, Oct 6 2016"
   ]
  },
  {
   "cell_type": "code",
   "execution_count": 0,
   "metadata": {
    "colab": {
     "base_uri": "https://localhost:8080/",
     "height": 391
    },
    "colab_type": "code",
    "id": "9cdMj2pq7q0U",
    "outputId": "56a036ba-75c3-4503-bc68-b2766bb7c25a"
   },
   "outputs": [
    {
     "data": {
      "text/plain": [
       "external_author_id    2116867\n",
       "author                2116867\n",
       "content               2116866\n",
       "region                2115731\n",
       "language              2116867\n",
       "publish_date          2116867\n",
       "harvested_date        2116867\n",
       "following             2116867\n",
       "followers             2116867\n",
       "updates               2116867\n",
       "post_type              852536\n",
       "account_type          2116867\n",
       "retweet               2116867\n",
       "account_category      2116867\n",
       "new_june_2018         2116867\n",
       "alt_external_id       2116867\n",
       "tweet_id              2116867\n",
       "article_url           2116867\n",
       "tco1_step1            1358060\n",
       "tco2_step1             450925\n",
       "tco3_step1              14075\n",
       "dtype: int64"
      ]
     },
     "execution_count": 7,
     "metadata": {
      "tags": []
     },
     "output_type": "execute_result"
    }
   ],
   "source": [
    "#Fetch English Tweets\n",
    "df_english = df.loc[df['language'] == \"English\"]\n",
    "df_english.count()"
   ]
  },
  {
   "cell_type": "code",
   "execution_count": 0,
   "metadata": {
    "colab": {
     "base_uri": "https://localhost:8080/",
     "height": 576
    },
    "colab_type": "code",
    "id": "tE7s51Fp7q0b",
    "outputId": "c5a9c02a-e3e8-460b-cf20-417510761753"
   },
   "outputs": [
    {
     "data": {
      "text/html": [
       "<div>\n",
       "<style scoped>\n",
       "    .dataframe tbody tr th:only-of-type {\n",
       "        vertical-align: middle;\n",
       "    }\n",
       "\n",
       "    .dataframe tbody tr th {\n",
       "        vertical-align: top;\n",
       "    }\n",
       "\n",
       "    .dataframe thead th {\n",
       "        text-align: right;\n",
       "    }\n",
       "</style>\n",
       "<table border=\"1\" class=\"dataframe\">\n",
       "  <thead>\n",
       "    <tr style=\"text-align: right;\">\n",
       "      <th></th>\n",
       "      <th>account_type</th>\n",
       "      <th>count</th>\n",
       "    </tr>\n",
       "  </thead>\n",
       "  <tbody>\n",
       "    <tr>\n",
       "      <th>11</th>\n",
       "      <td>Right</td>\n",
       "      <td>704953</td>\n",
       "    </tr>\n",
       "    <tr>\n",
       "      <th>15</th>\n",
       "      <td>local</td>\n",
       "      <td>458012</td>\n",
       "    </tr>\n",
       "    <tr>\n",
       "      <th>9</th>\n",
       "      <td>Left</td>\n",
       "      <td>422141</td>\n",
       "    </tr>\n",
       "    <tr>\n",
       "      <th>6</th>\n",
       "      <td>Hashtager</td>\n",
       "      <td>236092</td>\n",
       "    </tr>\n",
       "    <tr>\n",
       "      <th>16</th>\n",
       "      <td>news</td>\n",
       "      <td>138581</td>\n",
       "    </tr>\n",
       "    <tr>\n",
       "      <th>2</th>\n",
       "      <td>Commercial</td>\n",
       "      <td>112580</td>\n",
       "    </tr>\n",
       "    <tr>\n",
       "      <th>12</th>\n",
       "      <td>Russian</td>\n",
       "      <td>20015</td>\n",
       "    </tr>\n",
       "    <tr>\n",
       "      <th>8</th>\n",
       "      <td>Koch</td>\n",
       "      <td>10759</td>\n",
       "    </tr>\n",
       "    <tr>\n",
       "      <th>0</th>\n",
       "      <td>?</td>\n",
       "      <td>6945</td>\n",
       "    </tr>\n",
       "    <tr>\n",
       "      <th>5</th>\n",
       "      <td>German</td>\n",
       "      <td>3567</td>\n",
       "    </tr>\n",
       "    <tr>\n",
       "      <th>7</th>\n",
       "      <td>Italian</td>\n",
       "      <td>1799</td>\n",
       "    </tr>\n",
       "    <tr>\n",
       "      <th>1</th>\n",
       "      <td>Arabic</td>\n",
       "      <td>1030</td>\n",
       "    </tr>\n",
       "    <tr>\n",
       "      <th>14</th>\n",
       "      <td>ZAPOROSHIA</td>\n",
       "      <td>172</td>\n",
       "    </tr>\n",
       "    <tr>\n",
       "      <th>13</th>\n",
       "      <td>Spanish</td>\n",
       "      <td>79</td>\n",
       "    </tr>\n",
       "    <tr>\n",
       "      <th>4</th>\n",
       "      <td>French</td>\n",
       "      <td>70</td>\n",
       "    </tr>\n",
       "    <tr>\n",
       "      <th>3</th>\n",
       "      <td>Ebola</td>\n",
       "      <td>70</td>\n",
       "    </tr>\n",
       "    <tr>\n",
       "      <th>10</th>\n",
       "      <td>Portuguese</td>\n",
       "      <td>2</td>\n",
       "    </tr>\n",
       "  </tbody>\n",
       "</table>\n",
       "</div>"
      ],
      "text/plain": [
       "   account_type   count\n",
       "11        Right  704953\n",
       "15        local  458012\n",
       "9          Left  422141\n",
       "6     Hashtager  236092\n",
       "16         news  138581\n",
       "2    Commercial  112580\n",
       "12      Russian   20015\n",
       "8          Koch   10759\n",
       "0             ?    6945\n",
       "5        German    3567\n",
       "7       Italian    1799\n",
       "1        Arabic    1030\n",
       "14   ZAPOROSHIA     172\n",
       "13      Spanish      79\n",
       "4        French      70\n",
       "3        Ebola       70\n",
       "10   Portuguese       2"
      ]
     },
     "execution_count": 8,
     "metadata": {
      "tags": []
     },
     "output_type": "execute_result"
    }
   ],
   "source": [
    "#Account Types \n",
    "df_accountTypecount = df_english.groupby(['account_type'])['account_type'].count()\n",
    "df_accountTypecount = pd.DataFrame({'account_type':df_accountTypecount.index, 'count':df_accountTypecount.values})\n",
    "df_accountTypecount = df_accountTypecount.sort_values(by=['count'], ascending=False)\n",
    "df_accountTypecount.head(20)"
   ]
  },
  {
   "cell_type": "code",
   "execution_count": 0,
   "metadata": {
    "colab": {
     "base_uri": "https://localhost:8080/",
     "height": 359
    },
    "colab_type": "code",
    "id": "aTddRkWU7q0g",
    "outputId": "6ccae108-0e35-42cc-c51b-3aac265fd5b8"
   },
   "outputs": [
    {
     "data": {
      "text/html": [
       "<div>\n",
       "<style scoped>\n",
       "    .dataframe tbody tr th:only-of-type {\n",
       "        vertical-align: middle;\n",
       "    }\n",
       "\n",
       "    .dataframe tbody tr th {\n",
       "        vertical-align: top;\n",
       "    }\n",
       "\n",
       "    .dataframe thead th {\n",
       "        text-align: right;\n",
       "    }\n",
       "</style>\n",
       "<table border=\"1\" class=\"dataframe\">\n",
       "  <thead>\n",
       "    <tr style=\"text-align: right;\">\n",
       "      <th></th>\n",
       "      <th>author</th>\n",
       "      <th>followers</th>\n",
       "    </tr>\n",
       "  </thead>\n",
       "  <tbody>\n",
       "    <tr>\n",
       "      <th>8894</th>\n",
       "      <td>NOVOSTIMSK</td>\n",
       "      <td>206686</td>\n",
       "    </tr>\n",
       "    <tr>\n",
       "      <th>19650</th>\n",
       "      <td>KADIROVRUSSIA</td>\n",
       "      <td>90183</td>\n",
       "    </tr>\n",
       "    <tr>\n",
       "      <th>14135</th>\n",
       "      <td>MAXDEMENTIEV</td>\n",
       "      <td>90089</td>\n",
       "    </tr>\n",
       "    <tr>\n",
       "      <th>27991</th>\n",
       "      <td>NOVOSTISPB</td>\n",
       "      <td>82213</td>\n",
       "    </tr>\n",
       "    <tr>\n",
       "      <th>143658</th>\n",
       "      <td>TEN_GOP</td>\n",
       "      <td>63928</td>\n",
       "    </tr>\n",
       "    <tr>\n",
       "      <th>239171</th>\n",
       "      <td>TODAYNYCITY</td>\n",
       "      <td>60704</td>\n",
       "    </tr>\n",
       "    <tr>\n",
       "      <th>193467</th>\n",
       "      <td>ELEVEN_GOP</td>\n",
       "      <td>59100</td>\n",
       "    </tr>\n",
       "    <tr>\n",
       "      <th>213445</th>\n",
       "      <td>JENN_ABRAMS</td>\n",
       "      <td>39014</td>\n",
       "    </tr>\n",
       "    <tr>\n",
       "      <th>128630</th>\n",
       "      <td>LAVROVMUESLI</td>\n",
       "      <td>35441</td>\n",
       "    </tr>\n",
       "    <tr>\n",
       "      <th>139147</th>\n",
       "      <td>PAMELA_MOORE13</td>\n",
       "      <td>33250</td>\n",
       "    </tr>\n",
       "  </tbody>\n",
       "</table>\n",
       "</div>"
      ],
      "text/plain": [
       "                author  followers\n",
       "8894        NOVOSTIMSK     206686\n",
       "19650    KADIROVRUSSIA      90183\n",
       "14135     MAXDEMENTIEV      90089\n",
       "27991       NOVOSTISPB      82213\n",
       "143658         TEN_GOP      63928\n",
       "239171     TODAYNYCITY      60704\n",
       "193467      ELEVEN_GOP      59100\n",
       "213445     JENN_ABRAMS      39014\n",
       "128630    LAVROVMUESLI      35441\n",
       "139147  PAMELA_MOORE13      33250"
      ]
     },
     "execution_count": 9,
     "metadata": {
      "tags": []
     },
     "output_type": "execute_result"
    }
   ],
   "source": [
    "# Accounts with Most Number of Followers\n",
    "df_authors = df_english[['author','followers']].drop_duplicates(subset='author', keep=\"first\")\n",
    "df_authors_sorted = df_authors.sort_values(by=['followers'], ascending=False)\n",
    "df_authors_sorted.head(10)"
   ]
  },
  {
   "cell_type": "code",
   "execution_count": 0,
   "metadata": {
    "colab": {
     "base_uri": "https://localhost:8080/",
     "height": 359
    },
    "colab_type": "code",
    "id": "Ye9vrKtW7q0k",
    "outputId": "22722c08-1259-4e5f-c363-003e2eea77a7"
   },
   "outputs": [
    {
     "data": {
      "text/html": [
       "<div>\n",
       "<style scoped>\n",
       "    .dataframe tbody tr th:only-of-type {\n",
       "        vertical-align: middle;\n",
       "    }\n",
       "\n",
       "    .dataframe tbody tr th {\n",
       "        vertical-align: top;\n",
       "    }\n",
       "\n",
       "    .dataframe thead th {\n",
       "        text-align: right;\n",
       "    }\n",
       "</style>\n",
       "<table border=\"1\" class=\"dataframe\">\n",
       "  <thead>\n",
       "    <tr style=\"text-align: right;\">\n",
       "      <th></th>\n",
       "      <th>Author</th>\n",
       "      <th>Count</th>\n",
       "    </tr>\n",
       "  </thead>\n",
       "  <tbody>\n",
       "    <tr>\n",
       "      <th>737</th>\n",
       "      <td>EXQUOTE</td>\n",
       "      <td>53158</td>\n",
       "    </tr>\n",
       "    <tr>\n",
       "      <th>1815</th>\n",
       "      <td>SCREAMYMONKEY</td>\n",
       "      <td>43956</td>\n",
       "    </tr>\n",
       "    <tr>\n",
       "      <th>2115</th>\n",
       "      <td>WORLDNEWSPOLI</td>\n",
       "      <td>35082</td>\n",
       "    </tr>\n",
       "    <tr>\n",
       "      <th>126</th>\n",
       "      <td>AMELIEBALDWIN</td>\n",
       "      <td>34308</td>\n",
       "    </tr>\n",
       "    <tr>\n",
       "      <th>1989</th>\n",
       "      <td>TODAYPITTSBURGH</td>\n",
       "      <td>33377</td>\n",
       "    </tr>\n",
       "    <tr>\n",
       "      <th>1895</th>\n",
       "      <td>SPECIALAFFAIR</td>\n",
       "      <td>32416</td>\n",
       "    </tr>\n",
       "    <tr>\n",
       "      <th>1818</th>\n",
       "      <td>SEATTLE_POST</td>\n",
       "      <td>30680</td>\n",
       "    </tr>\n",
       "    <tr>\n",
       "      <th>1095</th>\n",
       "      <td>KANSASDAILYNEWS</td>\n",
       "      <td>28746</td>\n",
       "    </tr>\n",
       "    <tr>\n",
       "      <th>1755</th>\n",
       "      <td>ROOMOFRUMOR</td>\n",
       "      <td>28259</td>\n",
       "    </tr>\n",
       "    <tr>\n",
       "      <th>535</th>\n",
       "      <td>DAILYSANFRAN</td>\n",
       "      <td>27962</td>\n",
       "    </tr>\n",
       "  </tbody>\n",
       "</table>\n",
       "</div>"
      ],
      "text/plain": [
       "               Author  Count\n",
       "737           EXQUOTE  53158\n",
       "1815    SCREAMYMONKEY  43956\n",
       "2115    WORLDNEWSPOLI  35082\n",
       "126     AMELIEBALDWIN  34308\n",
       "1989  TODAYPITTSBURGH  33377\n",
       "1895    SPECIALAFFAIR  32416\n",
       "1818     SEATTLE_POST  30680\n",
       "1095  KANSASDAILYNEWS  28746\n",
       "1755      ROOMOFRUMOR  28259\n",
       "535      DAILYSANFRAN  27962"
      ]
     },
     "execution_count": 10,
     "metadata": {
      "tags": []
     },
     "output_type": "execute_result"
    }
   ],
   "source": [
    "df_tweetcount = df_english.groupby(['author'])['author'].count()\n",
    "df_tweetcount = pd.DataFrame({'Author':df_tweetcount.index, 'Count':df_tweetcount.values})\n",
    "df_authors_sorted = df_tweetcount.sort_values(by=['Count'], ascending=False)\n",
    "df_authors_sorted.head(10)"
   ]
  },
  {
   "cell_type": "code",
   "execution_count": 0,
   "metadata": {
    "colab": {
     "base_uri": "https://localhost:8080/",
     "height": 598
    },
    "colab_type": "code",
    "id": "RHtzknBd7q0p",
    "outputId": "0abc5d70-6d1b-4b6e-e9d6-25448b8699df"
   },
   "outputs": [
    {
     "name": "stderr",
     "output_type": "stream",
     "text": [
      "/usr/local/lib/python3.6/dist-packages/ipykernel_launcher.py:4: SettingWithCopyWarning: \n",
      "A value is trying to be set on a copy of a slice from a DataFrame.\n",
      "Try using .loc[row_indexer,col_indexer] = value instead\n",
      "\n",
      "See the caveats in the documentation: http://pandas.pydata.org/pandas-docs/stable/indexing.html#indexing-view-versus-copy\n",
      "  after removing the cwd from sys.path.\n",
      "/usr/local/lib/python3.6/dist-packages/ipykernel_launcher.py:10: SettingWithCopyWarning: \n",
      "A value is trying to be set on a copy of a slice from a DataFrame.\n",
      "Try using .loc[row_indexer,col_indexer] = value instead\n",
      "\n",
      "See the caveats in the documentation: http://pandas.pydata.org/pandas-docs/stable/indexing.html#indexing-view-versus-copy\n",
      "  # Remove the CWD from sys.path while we load stuff.\n",
      "/usr/local/lib/python3.6/dist-packages/ipykernel_launcher.py:16: SettingWithCopyWarning: \n",
      "A value is trying to be set on a copy of a slice from a DataFrame.\n",
      "Try using .loc[row_indexer,col_indexer] = value instead\n",
      "\n",
      "See the caveats in the documentation: http://pandas.pydata.org/pandas-docs/stable/indexing.html#indexing-view-versus-copy\n",
      "  app.launch_new_instance()\n",
      "/usr/local/lib/python3.6/dist-packages/ipykernel_launcher.py:22: SettingWithCopyWarning: \n",
      "A value is trying to be set on a copy of a slice from a DataFrame.\n",
      "Try using .loc[row_indexer,col_indexer] = value instead\n",
      "\n",
      "See the caveats in the documentation: http://pandas.pydata.org/pandas-docs/stable/indexing.html#indexing-view-versus-copy\n",
      "/usr/local/lib/python3.6/dist-packages/ipykernel_launcher.py:29: SettingWithCopyWarning: \n",
      "A value is trying to be set on a copy of a slice from a DataFrame.\n",
      "Try using .loc[row_indexer,col_indexer] = value instead\n",
      "\n",
      "See the caveats in the documentation: http://pandas.pydata.org/pandas-docs/stable/indexing.html#indexing-view-versus-copy\n",
      "/usr/local/lib/python3.6/dist-packages/ipykernel_launcher.py:35: SettingWithCopyWarning: \n",
      "A value is trying to be set on a copy of a slice from a DataFrame.\n",
      "Try using .loc[row_indexer,col_indexer] = value instead\n",
      "\n",
      "See the caveats in the documentation: http://pandas.pydata.org/pandas-docs/stable/indexing.html#indexing-view-versus-copy\n"
     ]
    }
   ],
   "source": [
    "#Filter Tweets based on Important Months\n",
    "\n",
    "\n",
    "#July 2015\n",
    "start_date = '07-01-2015'\n",
    "end_date = '07-31-2015'\n",
    "df_Jul2015 = df_english.loc[(df_english['publish_date'] > start_date) & (df_english['publish_date'] <= end_date)]\n",
    "df_Jul2015['tweet'] = df_Jul2015['content']\n",
    "\n",
    "#November 2015\n",
    "start_date = '11-01-2015'\n",
    "end_date = '11-30-2015'\n",
    "df_Nov2015 = df_english.loc[(df_english['publish_date'] > start_date) & (df_english['publish_date'] <= end_date)]\n",
    "df_Nov2015['tweet'] = df_Nov2015['content']\n",
    "\n",
    "#September 2016\n",
    "start_date = '09-01-2016'\n",
    "end_date = '09-30-2016'\n",
    "df_Sep2016 = df_english.loc[(df_english['publish_date'] > start_date) & (df_english['publish_date'] <= end_date)]\n",
    "df_Sep2016['tweet'] = df_Sep2016['content']\n",
    "\n",
    "#October 2016\n",
    "start_date = '10-01-2016'\n",
    "end_date = '10-30-2016'\n",
    "df_Oct2016 = df_english.loc[(df_english['publish_date'] > start_date) & (df_english['publish_date'] <= end_date)]\n",
    "df_Oct2016['tweet'] = df_Oct2016['content']\n",
    "\n",
    "\n",
    "#Novmber 2016\n",
    "start_date = '11-01-2016'\n",
    "end_date = '11-30-2016'\n",
    "df_Nov2016 =df_english.loc[(df_english['publish_date'] > start_date) & (df_english['publish_date'] <= end_date)]\n",
    "df_Nov2016['tweet'] = df_Nov2016['content']\n",
    "\n",
    "#August 2017\n",
    "start_date = '08-01-2017'\n",
    "end_date = '08-30-2017'\n",
    "df_Aug2017 = df_english.loc[(df_english['publish_date'] > start_date) & (df_english['publish_date'] <= end_date)]\n",
    "df_Aug2017['tweet'] = df_Aug2017['content']\n",
    "\n"
   ]
  },
  {
   "cell_type": "code",
   "execution_count": 0,
   "metadata": {
    "colab": {
     "base_uri": "https://localhost:8080/",
     "height": 669
    },
    "colab_type": "code",
    "id": "EyF0eOpr7q0s",
    "outputId": "1d12d59f-0e32-4ebb-cb06-a0bb25c5044b"
   },
   "outputs": [
    {
     "data": {
      "text/plain": [
       "Text(0, 0.5, 'Count')"
      ]
     },
     "execution_count": 15,
     "metadata": {
      "tags": []
     },
     "output_type": "execute_result"
    },
    {
     "data": {
      "image/png": "[encoded data removed]",
      "text/plain": [
       "<Figure size 1440x720 with 1 Axes>"
      ]
     },
     "metadata": {
      "tags": []
     },
     "output_type": "display_data"
    }
   ],
   "source": [
    "number_plot = df_Jul2015[\"content\"].groupby([df_Jul2015[\"publish_date\"].dt.month, df_Jul2015[\"publish_date\"].dt.day]).count().plot(kind=\"bar\", figsize=(20,10))\n",
    "number_plot.set_xlabel(\"Tweets\")\n",
    "number_plot.set_ylabel(\"Count\")"
   ]
  },
  {
   "cell_type": "code",
   "execution_count": 0,
   "metadata": {
    "colab": {},
    "colab_type": "code",
    "id": "pfmYwgzA7q0w"
   },
   "outputs": [],
   "source": [
    "#Cleaning Unstructured Text Data\n",
    "import nltk\n",
    "from nltk.tokenize import RegexpTokenizer\n",
    "from nltk.corpus import stopwords"
   ]
  },
  {
   "cell_type": "code",
   "execution_count": 0,
   "metadata": {
    "colab": {},
    "colab_type": "code",
    "id": "96MlTX-D7q0y"
   },
   "outputs": [],
   "source": [
    "#Data Cleaning and Pre Processing\n",
    "# def remove_links(tweet):\n",
    "#     '''Takes a string and removes web links from it'''\n",
    "#     tweet = re.sub(r'http\\S+', '', tweet) # remove http links\n",
    "#     tweet = re.sub(r'bit.ly/\\S+', '', tweet) # rempve bitly links\n",
    "#     tweet = tweet.strip('[link]') # remove [links]\n",
    "#     return tweet\n",
    "\n",
    "# def remove_users(tweet):\n",
    "#     '''Takes a string and removes retweet and @user information'''\n",
    "#     tweet = re.sub('(RT\\s@[A-Za-z]+[A-Za-z0-9-_]+)', '', tweet) # remove retweet\n",
    "#     tweet = re.sub('(@[A-Za-z]+[A-Za-z0-9-_]+)', '', tweet) # remove tweeted at\n",
    "#     return tweet"
   ]
  },
  {
   "cell_type": "code",
   "execution_count": 0,
   "metadata": {
    "colab": {
     "base_uri": "https://localhost:8080/",
     "height": 51
    },
    "colab_type": "code",
    "id": "jgPJWmVK7q00",
    "outputId": "6a86f4e3-ef06-4bcf-be6d-d2c1896696f8"
   },
   "outputs": [
    {
     "name": "stdout",
     "output_type": "stream",
     "text": [
      "[nltk_data] Downloading package stopwords to /root/nltk_data...\n",
      "[nltk_data]   Package stopwords is already up-to-date!\n"
     ]
    }
   ],
   "source": [
    " import nltk\n",
    "  \n",
    " nltk.download('stopwords')\n",
    " my_stopwords = nltk.corpus.stopwords.words('english')\n",
    "# word_rooter = nltk.stem.snowball.PorterStemmer(ignore_stopwords=False).stem\n",
    "# my_punctuation = '!\"$%&\\'()*+,-./:;<=>?[\\\\]^_`{|}~•@'\n",
    "\n",
    "# cleaning master function\n",
    "# def clean_tweet(tweet, bigrams=False):\n",
    "#     tweet = remove_users(tweet)\n",
    "#     tweet = remove_links(tweet)\n",
    "#     tweet = tweet.lower() # lower case\n",
    "#     tweet = re.sub('['+my_punctuation + ']+', ' ', tweet) # strip punctuation\n",
    "#     tweet = re.sub('\\s+', ' ', tweet) #remove double spacing\n",
    "#     tweet = re.sub('([0-9]+)', '', tweet) # remove numbers\n",
    "#     tweet_token_list = [word for word in tweet.split(' ')\n",
    "#                             if word not in my_stopwords] # remove stopwords\n",
    "\n",
    "# #     tweet_token_list = [word_rooter(word) if '#' not in word else word\n",
    "# #                         for word in tweet_token_list] # apply word rooter\n",
    "#     if bigrams:\n",
    "#         tweet_token_list = tweet_token_list+[tweet_token_list[i]+'_'+tweet_token_list[i+1]\n",
    "#                                             for i in range(len(tweet_token_list)-1)]\n",
    "#     tweet = ' '.join(tweet_token_list)\n",
    "#     return tweet\n",
    "\n",
    "from bs4 import BeautifulSoup\n",
    "from nltk.tokenize import WordPunctTokenizer\n",
    "tok = WordPunctTokenizer()\n",
    "pat1 = r'@[A-Za-z0-9]+'\n",
    "pat2 = r'https?://[A-Za-z0-9./]+'\n",
    "combined_pat = r'|'.join((pat1, pat2))\n",
    "def clean_tweet(text):\n",
    "    soup = BeautifulSoup(text, 'lxml')\n",
    "    souped = soup.get_text()\n",
    "    stripped = re.sub(combined_pat, '', souped)\n",
    "    try:\n",
    "        clean = stripped.decode(\"utf-8-sig\").replace(u\"\\ufffd\", \"?\")\n",
    "    except:\n",
    "        clean = stripped\n",
    "    letters_only = re.sub(\"[^a-zA-Z]\", \" \", clean)\n",
    "    lower_case = letters_only.lower()\n",
    "    # During the letters_only process two lines above, it has created unnecessay white spaces,\n",
    "    # I will tokenize and join together to remove unneccessary white spaces\n",
    "    words = tok.tokenize(lower_case)\n",
    "    \n",
    "    tweet_token_list = [word for word in words\n",
    "                      if word not in my_stopwords] # remove stopwords\n",
    "    \n",
    "    return (\" \".join(tweet_token_list)).strip()\n",
    "\n"
   ]
  },
  {
   "cell_type": "code",
   "execution_count": 0,
   "metadata": {
    "colab": {
     "base_uri": "https://localhost:8080/",
     "height": 343
    },
    "colab_type": "code",
    "id": "oAWHksRK7q02",
    "outputId": "79f28679-04a4-4853-af4c-6f0f342abf91"
   },
   "outputs": [
    {
     "name": "stderr",
     "output_type": "stream",
     "text": [
      "/usr/local/lib/python3.6/dist-packages/bs4/__init__.py:336: UserWarning: \"http://t.co/figQ9WcMBI\" looks like a URL. Beautiful Soup is not an HTTP client. You should probably use an HTTP client like requests to get the document behind the URL, and feed that document to Beautiful Soup.\n",
      "  ' that document to Beautiful Soup.' % decoded_markup\n",
      "/usr/local/lib/python3.6/dist-packages/bs4/__init__.py:336: UserWarning: \"https://t.co/zuIzbpejyw\" looks like a URL. Beautiful Soup is not an HTTP client. You should probably use an HTTP client like requests to get the document behind the URL, and feed that document to Beautiful Soup.\n",
      "  ' that document to Beautiful Soup.' % decoded_markup\n",
      "/usr/local/lib/python3.6/dist-packages/bs4/__init__.py:336: UserWarning: \"http://t.co/Zp8k6j1VhG\" looks like a URL. Beautiful Soup is not an HTTP client. You should probably use an HTTP client like requests to get the document behind the URL, and feed that document to Beautiful Soup.\n",
      "  ' that document to Beautiful Soup.' % decoded_markup\n",
      "/usr/local/lib/python3.6/dist-packages/bs4/__init__.py:336: UserWarning: \"https://t.co/zuIzbpejyw\" looks like a URL. Beautiful Soup is not an HTTP client. You should probably use an HTTP client like requests to get the document behind the URL, and feed that document to Beautiful Soup.\n",
      "  ' that document to Beautiful Soup.' % decoded_markup\n",
      "/usr/local/lib/python3.6/dist-packages/bs4/__init__.py:336: UserWarning: \"https://t.co/zuIzbpejyw\" looks like a URL. Beautiful Soup is not an HTTP client. You should probably use an HTTP client like requests to get the document behind the URL, and feed that document to Beautiful Soup.\n",
      "  ' that document to Beautiful Soup.' % decoded_markup\n",
      "/usr/local/lib/python3.6/dist-packages/bs4/__init__.py:336: UserWarning: \"http://t.co/NeeCmAq0RO\" looks like a URL. Beautiful Soup is not an HTTP client. You should probably use an HTTP client like requests to get the document behind the URL, and feed that document to Beautiful Soup.\n",
      "  ' that document to Beautiful Soup.' % decoded_markup\n",
      "/usr/local/lib/python3.6/dist-packages/ipykernel_launcher.py:1: SettingWithCopyWarning: \n",
      "A value is trying to be set on a copy of a slice from a DataFrame.\n",
      "Try using .loc[row_indexer,col_indexer] = value instead\n",
      "\n",
      "See the caveats in the documentation: http://pandas.pydata.org/pandas-docs/stable/indexing.html#indexing-view-versus-copy\n",
      "  \"\"\"Entry point for launching an IPython kernel.\n"
     ]
    }
   ],
   "source": [
    "df_Jul2015['clean_tweet'] = df_Jul2015.tweet.apply(clean_tweet)\n"
   ]
  },
  {
   "cell_type": "code",
   "execution_count": 0,
   "metadata": {
    "colab": {},
    "colab_type": "code",
    "id": "qgPav89h7q06"
   },
   "outputs": [],
   "source": [
    "from sklearn.feature_extraction.text import CountVectorizer\n",
    "\n",
    "# the vectorizer object will be used to transform text to vector form\n",
    "vectorizer = CountVectorizer(max_df=0.9, min_df=25, token_pattern='\\w+|\\$[\\d\\.]+|\\S+')\n",
    "\n",
    "# apply transformation\n",
    "tf = vectorizer.fit_transform(df_Jul2015['clean_tweet']).toarray()\n",
    "\n",
    "# tf_feature_names tells us what word each column in the matric represents\n",
    "tf_feature_names = vectorizer.get_feature_names()"
   ]
  },
  {
   "cell_type": "code",
   "execution_count": 0,
   "metadata": {
    "colab": {},
    "colab_type": "code",
    "id": "g1djpypJ7q09"
   },
   "outputs": [],
   "source": [
    "from sklearn.decomposition import LatentDirichletAllocation\n",
    "\n",
    "number_of_topics = 10\n",
    "#LDA\n",
    "model = LatentDirichletAllocation(n_components=number_of_topics, random_state=0)"
   ]
  },
  {
   "cell_type": "code",
   "execution_count": 0,
   "metadata": {
    "colab": {
     "base_uri": "https://localhost:8080/",
     "height": 136
    },
    "colab_type": "code",
    "id": "6m7qXCeh7q0_",
    "outputId": "43ae783b-5baa-4092-80c7-59f876b4ed14"
   },
   "outputs": [
    {
     "data": {
      "text/plain": [
       "LatentDirichletAllocation(batch_size=128, doc_topic_prior=None,\n",
       "             evaluate_every=-1, learning_decay=0.7,\n",
       "             learning_method='batch', learning_offset=10.0,\n",
       "             max_doc_update_iter=100, max_iter=10, mean_change_tol=0.001,\n",
       "             n_components=10, n_jobs=None, n_topics=None, perp_tol=0.1,\n",
       "             random_state=0, topic_word_prior=None,\n",
       "             total_samples=1000000.0, verbose=0)"
      ]
     },
     "execution_count": 25,
     "metadata": {
      "tags": []
     },
     "output_type": "execute_result"
    }
   ],
   "source": [
    "model.fit(tf)\n"
   ]
  },
  {
   "cell_type": "code",
   "execution_count": 0,
   "metadata": {
    "colab": {},
    "colab_type": "code",
    "id": "ItQ6hCTm7q1C"
   },
   "outputs": [],
   "source": [
    "def display_topics(model, feature_names, no_top_words):\n",
    "    topic_dict = {}\n",
    "    for topic_idx, topic in enumerate(model.components_):\n",
    "        topic_dict[\"Topic %d words\" % (topic_idx)]= ['{}'.format(feature_names[i])\n",
    "                        for i in topic.argsort()[:-no_top_words - 1:-1]]\n",
    "        topic_dict[\"Topic %d weights\" % (topic_idx)]= ['{:.1f}'.format(topic[i])\n",
    "                        for i in topic.argsort()[:-no_top_words - 1:-1]]\n",
    "\n",
    "    return pd.DataFrame(topic_dict)"
   ]
  },
  {
   "cell_type": "code",
   "execution_count": 0,
   "metadata": {
    "colab": {
     "base_uri": "https://localhost:8080/",
     "height": 433
    },
    "colab_type": "code",
    "id": "ZG1vlJpC7q1D",
    "outputId": "02b30b6b-b97d-4f18-a1c5-8acd3f8576ff",
    "scrolled": false
   },
   "outputs": [
    {
     "data": {
      "text/html": [
       "<div>\n",
       "<style scoped>\n",
       "    .dataframe tbody tr th:only-of-type {\n",
       "        vertical-align: middle;\n",
       "    }\n",
       "\n",
       "    .dataframe tbody tr th {\n",
       "        vertical-align: top;\n",
       "    }\n",
       "\n",
       "    .dataframe thead th {\n",
       "        text-align: right;\n",
       "    }\n",
       "</style>\n",
       "<table border=\"1\" class=\"dataframe\">\n",
       "  <thead>\n",
       "    <tr style=\"text-align: right;\">\n",
       "      <th></th>\n",
       "      <th>Topic 0 words</th>\n",
       "      <th>Topic 0 weights</th>\n",
       "      <th>Topic 1 words</th>\n",
       "      <th>Topic 1 weights</th>\n",
       "      <th>Topic 2 words</th>\n",
       "      <th>Topic 2 weights</th>\n",
       "      <th>Topic 3 words</th>\n",
       "      <th>Topic 3 weights</th>\n",
       "      <th>Topic 4 words</th>\n",
       "      <th>Topic 4 weights</th>\n",
       "      <th>Topic 5 words</th>\n",
       "      <th>Topic 5 weights</th>\n",
       "      <th>Topic 6 words</th>\n",
       "      <th>Topic 6 weights</th>\n",
       "      <th>Topic 7 words</th>\n",
       "      <th>Topic 7 weights</th>\n",
       "      <th>Topic 8 words</th>\n",
       "      <th>Topic 8 weights</th>\n",
       "      <th>Topic 9 words</th>\n",
       "      <th>Topic 9 weights</th>\n",
       "    </tr>\n",
       "  </thead>\n",
       "  <tbody>\n",
       "    <tr>\n",
       "      <th>0</th>\n",
       "      <td>life</td>\n",
       "      <td>1362.0</td>\n",
       "      <td>news</td>\n",
       "      <td>4519.9</td>\n",
       "      <td>news</td>\n",
       "      <td>1886.2</td>\n",
       "      <td>bb</td>\n",
       "      <td>981.1</td>\n",
       "      <td>workout</td>\n",
       "      <td>3621.0</td>\n",
       "      <td>exercise</td>\n",
       "      <td>10738.9</td>\n",
       "      <td>weight</td>\n",
       "      <td>9229.1</td>\n",
       "      <td>workout</td>\n",
       "      <td>4987.3</td>\n",
       "      <td>words</td>\n",
       "      <td>1257.1</td>\n",
       "      <td>workout</td>\n",
       "      <td>28301.9</td>\n",
       "    </tr>\n",
       "    <tr>\n",
       "      <th>1</th>\n",
       "      <td>new</td>\n",
       "      <td>1158.7</td>\n",
       "      <td>world</td>\n",
       "      <td>2519.6</td>\n",
       "      <td>man</td>\n",
       "      <td>1796.0</td>\n",
       "      <td>sp</td>\n",
       "      <td>967.1</td>\n",
       "      <td>diet</td>\n",
       "      <td>2633.9</td>\n",
       "      <td>one</td>\n",
       "      <td>1185.5</td>\n",
       "      <td>lose</td>\n",
       "      <td>6861.1</td>\n",
       "      <td>like</td>\n",
       "      <td>2767.9</td>\n",
       "      <td>sports</td>\n",
       "      <td>743.4</td>\n",
       "      <td>good</td>\n",
       "      <td>3662.9</td>\n",
       "    </tr>\n",
       "    <tr>\n",
       "      <th>2</th>\n",
       "      <td>sports</td>\n",
       "      <td>1154.0</td>\n",
       "      <td>politics</td>\n",
       "      <td>1520.8</td>\n",
       "      <td>local</td>\n",
       "      <td>1555.1</td>\n",
       "      <td>obama</td>\n",
       "      <td>941.5</td>\n",
       "      <td>tomorrow</td>\n",
       "      <td>1062.6</td>\n",
       "      <td>time</td>\n",
       "      <td>1132.1</td>\n",
       "      <td>need</td>\n",
       "      <td>2523.0</td>\n",
       "      <td>love</td>\n",
       "      <td>1601.6</td>\n",
       "      <td>money</td>\n",
       "      <td>671.5</td>\n",
       "      <td>get</td>\n",
       "      <td>2528.9</td>\n",
       "    </tr>\n",
       "    <tr>\n",
       "      <th>3</th>\n",
       "      <td>health</td>\n",
       "      <td>971.0</td>\n",
       "      <td>trump</td>\n",
       "      <td>1301.8</td>\n",
       "      <td>police</td>\n",
       "      <td>1233.1</td>\n",
       "      <td>video</td>\n",
       "      <td>728.2</td>\n",
       "      <td>day</td>\n",
       "      <td>955.8</td>\n",
       "      <td>go</td>\n",
       "      <td>684.8</td>\n",
       "      <td>loss</td>\n",
       "      <td>2357.1</td>\n",
       "      <td>fitness</td>\n",
       "      <td>1066.0</td>\n",
       "      <td>news</td>\n",
       "      <td>576.6</td>\n",
       "      <td>today</td>\n",
       "      <td>2450.7</td>\n",
       "    </tr>\n",
       "    <tr>\n",
       "      <th>4</th>\n",
       "      <td>right</td>\n",
       "      <td>689.1</td>\n",
       "      <td>says</td>\n",
       "      <td>1196.8</td>\n",
       "      <td>cleveland</td>\n",
       "      <td>924.1</td>\n",
       "      <td>america</td>\n",
       "      <td>672.2</td>\n",
       "      <td>going</td>\n",
       "      <td>920.8</td>\n",
       "      <td>u</td>\n",
       "      <td>613.9</td>\n",
       "      <td>fat</td>\n",
       "      <td>2030.8</td>\n",
       "      <td>want</td>\n",
       "      <td>1038.2</td>\n",
       "      <td>unitedstatesin</td>\n",
       "      <td>474.1</td>\n",
       "      <td>go</td>\n",
       "      <td>2129.3</td>\n",
       "    </tr>\n",
       "    <tr>\n",
       "      <th>5</th>\n",
       "      <td>via</td>\n",
       "      <td>382.8</td>\n",
       "      <td>iran</td>\n",
       "      <td>1102.1</td>\n",
       "      <td>topnews</td>\n",
       "      <td>846.0</td>\n",
       "      <td>baby</td>\n",
       "      <td>541.0</td>\n",
       "      <td>fitness</td>\n",
       "      <td>734.1</td>\n",
       "      <td>week</td>\n",
       "      <td>567.7</td>\n",
       "      <td>trying</td>\n",
       "      <td>802.0</td>\n",
       "      <td>feel</td>\n",
       "      <td>1008.5</td>\n",
       "      <td>wasteamillionin</td>\n",
       "      <td>473.1</td>\n",
       "      <td>need</td>\n",
       "      <td>1876.3</td>\n",
       "    </tr>\n",
       "    <tr>\n",
       "      <th>6</th>\n",
       "      <td>always</td>\n",
       "      <td>375.9</td>\n",
       "      <td>u</td>\n",
       "      <td>1086.7</td>\n",
       "      <td>crime</td>\n",
       "      <td>828.1</td>\n",
       "      <td>tcot</td>\n",
       "      <td>532.8</td>\n",
       "      <td>even</td>\n",
       "      <td>731.9</td>\n",
       "      <td>get</td>\n",
       "      <td>558.8</td>\n",
       "      <td>really</td>\n",
       "      <td>667.5</td>\n",
       "      <td>pre</td>\n",
       "      <td>904.3</td>\n",
       "      <td>house</td>\n",
       "      <td>470.1</td>\n",
       "      <td>morning</td>\n",
       "      <td>1806.1</td>\n",
       "    </tr>\n",
       "    <tr>\n",
       "      <th>7</th>\n",
       "      <td>know</td>\n",
       "      <td>374.7</td>\n",
       "      <td>deal</td>\n",
       "      <td>1059.1</td>\n",
       "      <td>year</td>\n",
       "      <td>664.1</td>\n",
       "      <td>planned</td>\n",
       "      <td>482.1</td>\n",
       "      <td>exercise</td>\n",
       "      <td>706.3</td>\n",
       "      <td>see</td>\n",
       "      <td>523.0</td>\n",
       "      <td>help</td>\n",
       "      <td>550.5</td>\n",
       "      <td>well</td>\n",
       "      <td>688.3</td>\n",
       "      <td>white</td>\n",
       "      <td>437.1</td>\n",
       "      <td>got</td>\n",
       "      <td>1495.5</td>\n",
       "    </tr>\n",
       "    <tr>\n",
       "      <th>8</th>\n",
       "      <td>must</td>\n",
       "      <td>323.9</td>\n",
       "      <td>obama</td>\n",
       "      <td>621.1</td>\n",
       "      <td>woman</td>\n",
       "      <td>634.2</td>\n",
       "      <td>parenthood</td>\n",
       "      <td>419.1</td>\n",
       "      <td>back</td>\n",
       "      <td>602.6</td>\n",
       "      <td>let</td>\n",
       "      <td>508.5</td>\n",
       "      <td>way</td>\n",
       "      <td>539.9</td>\n",
       "      <td>better</td>\n",
       "      <td>652.5</td>\n",
       "      <td>buy</td>\n",
       "      <td>357.8</td>\n",
       "      <td>time</td>\n",
       "      <td>1329.1</td>\n",
       "    </tr>\n",
       "    <tr>\n",
       "      <th>9</th>\n",
       "      <td>wrong</td>\n",
       "      <td>282.0</td>\n",
       "      <td>state</td>\n",
       "      <td>589.9</td>\n",
       "      <td>miami</td>\n",
       "      <td>602.1</td>\n",
       "      <td>trumpcampaignslogans</td>\n",
       "      <td>413.1</td>\n",
       "      <td>lol</td>\n",
       "      <td>553.5</td>\n",
       "      <td>fitness</td>\n",
       "      <td>436.6</td>\n",
       "      <td>want</td>\n",
       "      <td>512.4</td>\n",
       "      <td>night</td>\n",
       "      <td>616.9</td>\n",
       "      <td>us</td>\n",
       "      <td>334.2</td>\n",
       "      <td>gym</td>\n",
       "      <td>1214.0</td>\n",
       "    </tr>\n",
       "  </tbody>\n",
       "</table>\n",
       "</div>"
      ],
      "text/plain": [
       "  Topic 0 words Topic 0 weights Topic 1 words Topic 1 weights Topic 2 words  \\\n",
       "0          life          1362.0          news          4519.9          news   \n",
       "1           new          1158.7         world          2519.6           man   \n",
       "2        sports          1154.0      politics          1520.8         local   \n",
       "3        health           971.0         trump          1301.8        police   \n",
       "4         right           689.1          says          1196.8     cleveland   \n",
       "5           via           382.8          iran          1102.1       topnews   \n",
       "6        always           375.9             u          1086.7         crime   \n",
       "7          know           374.7          deal          1059.1          year   \n",
       "8          must           323.9         obama           621.1         woman   \n",
       "9         wrong           282.0         state           589.9         miami   \n",
       "\n",
       "  Topic 2 weights         Topic 3 words Topic 3 weights Topic 4 words  \\\n",
       "0          1886.2                    bb           981.1       workout   \n",
       "1          1796.0                    sp           967.1          diet   \n",
       "2          1555.1                 obama           941.5      tomorrow   \n",
       "3          1233.1                 video           728.2           day   \n",
       "4           924.1               america           672.2         going   \n",
       "5           846.0                  baby           541.0       fitness   \n",
       "6           828.1                  tcot           532.8          even   \n",
       "7           664.1               planned           482.1      exercise   \n",
       "8           634.2            parenthood           419.1          back   \n",
       "9           602.1  trumpcampaignslogans           413.1           lol   \n",
       "\n",
       "  Topic 4 weights Topic 5 words Topic 5 weights Topic 6 words Topic 6 weights  \\\n",
       "0          3621.0      exercise         10738.9        weight          9229.1   \n",
       "1          2633.9           one          1185.5          lose          6861.1   \n",
       "2          1062.6          time          1132.1          need          2523.0   \n",
       "3           955.8            go           684.8          loss          2357.1   \n",
       "4           920.8             u           613.9           fat          2030.8   \n",
       "5           734.1          week           567.7        trying           802.0   \n",
       "6           731.9           get           558.8        really           667.5   \n",
       "7           706.3           see           523.0          help           550.5   \n",
       "8           602.6           let           508.5           way           539.9   \n",
       "9           553.5       fitness           436.6          want           512.4   \n",
       "\n",
       "  Topic 7 words Topic 7 weights    Topic 8 words Topic 8 weights  \\\n",
       "0       workout          4987.3            words          1257.1   \n",
       "1          like          2767.9           sports           743.4   \n",
       "2          love          1601.6            money           671.5   \n",
       "3       fitness          1066.0             news           576.6   \n",
       "4          want          1038.2   unitedstatesin           474.1   \n",
       "5          feel          1008.5  wasteamillionin           473.1   \n",
       "6           pre           904.3            house           470.1   \n",
       "7          well           688.3            white           437.1   \n",
       "8        better           652.5              buy           357.8   \n",
       "9         night           616.9               us           334.2   \n",
       "\n",
       "  Topic 9 words Topic 9 weights  \n",
       "0       workout         28301.9  \n",
       "1          good          3662.9  \n",
       "2           get          2528.9  \n",
       "3         today          2450.7  \n",
       "4            go          2129.3  \n",
       "5          need          1876.3  \n",
       "6       morning          1806.1  \n",
       "7           got          1495.5  \n",
       "8          time          1329.1  \n",
       "9           gym          1214.0  "
      ]
     },
     "execution_count": 27,
     "metadata": {
      "tags": []
     },
     "output_type": "execute_result"
    }
   ],
   "source": [
    "no_top_words = 10\n",
    "display_topics(model, tf_feature_names, no_top_words)"
   ]
  },
  {
   "cell_type": "code",
   "execution_count": 0,
   "metadata": {
    "colab": {},
    "colab_type": "code",
    "id": "to1Lo__c7q1H"
   },
   "outputs": [],
   "source": [
    "#NMF\n",
    "from sklearn.decomposition import NMF\n",
    "model = NMF(n_components=10, random_state=0, alpha=.1, l1_ratio=.5)\n",
    "model.fit(tf)"
   ]
  },
  {
   "cell_type": "code",
   "execution_count": 0,
   "metadata": {
    "colab": {},
    "colab_type": "code",
    "id": "rel88XNb7q1J"
   },
   "outputs": [],
   "source": [
    "no_top_words = 10\n",
    "display_topics(model, tf_feature_names, no_top_words)"
   ]
  },
  {
   "cell_type": "code",
   "execution_count": 0,
   "metadata": {
    "colab": {},
    "colab_type": "code",
    "id": "sQHjOocG7q1L"
   },
   "outputs": [],
   "source": [
    "from gensim.models import doc2vec\n",
    "from collections import namedtuple\n",
    "\n",
    "\n",
    "docs = []\n",
    "analyzedDocument = namedtuple('AnalyzedDocument', 'words tags')\n",
    "for i, text in enumerate(doc1):\n",
    "    words = text.lower().split()\n",
    "    tags = [i]\n",
    "    docs.append(analyzedDocument(words, tags))\n",
    "\n",
    "# Train model (set min_count = 1, if you want the model to work with the provided example data set)\n",
    "\n",
    "model = doc2vec.Doc2Vec(docs, size = 100, window = 300, min_count = 1, workers = 4)\n"
   ]
  },
  {
   "cell_type": "code",
   "execution_count": 0,
   "metadata": {
    "colab": {},
    "colab_type": "code",
    "id": "A2N6u-dy7q1M"
   },
   "outputs": [],
   "source": [
    "#Major Topics of Discussions \n",
    "# 1. Weightloss\n",
    "# 2. Trump Campaign\n",
    "# 3. Planned Parenthood\n",
    "# 4. Cleveland Police Shooting \n",
    "\n"
   ]
  },
  {
   "cell_type": "code",
   "execution_count": 0,
   "metadata": {
    "colab": {},
    "colab_type": "code",
    "id": "xeZ5uKSo7q1O"
   },
   "outputs": [],
   "source": [
    "df_Nov2015['clean_tweet'] = df_Nov2015.tweet.apply(clean_tweet)\n",
    "\n",
    "# the vectorizer object will be used to transform text to vector form\n",
    "vectorizer = CountVectorizer(max_df=0.9, min_df=25, token_pattern='\\w+|\\$[\\d\\.]+|\\S+')\n",
    "\n",
    "tf = vectorizer.fit_transform(df_Nov2015['clean_tweet']).toarray()\n",
    "\n",
    "# tf_feature_names tells us what word each column in the matric represents\n",
    "tf_feature_names = vectorizer.get_feature_names()"
   ]
  },
  {
   "cell_type": "code",
   "execution_count": 0,
   "metadata": {
    "colab": {},
    "colab_type": "code",
    "id": "s0tycBpW7q1Q"
   },
   "outputs": [],
   "source": [
    "from sklearn.decomposition import LatentDirichletAllocation\n",
    "\n",
    "number_of_topics = 10\n",
    "\n",
    "model = LatentDirichletAllocation(n_components=number_of_topics, random_state=0)"
   ]
  },
  {
   "cell_type": "code",
   "execution_count": 0,
   "metadata": {
    "colab": {},
    "colab_type": "code",
    "id": "mMURwpIq7q1R"
   },
   "outputs": [],
   "source": [
    "model.fit(tf)\n"
   ]
  },
  {
   "cell_type": "code",
   "execution_count": 0,
   "metadata": {
    "colab": {},
    "colab_type": "code",
    "id": "rtQgXNYg7q1V",
    "scrolled": true
   },
   "outputs": [],
   "source": [
    "no_top_words = 20\n",
    "display_topics(model, tf_feature_names, no_top_words)"
   ]
  },
  {
   "cell_type": "code",
   "execution_count": 0,
   "metadata": {
    "colab": {},
    "colab_type": "code",
    "id": "t9RSGA7K7q1X"
   },
   "outputs": [],
   "source": [
    "#Major Topics of Discussions \n",
    "#Mostly Reverted back to Russian, \n",
    "#Food Poisoning, USDA \n",
    "#Paris 2015 Attacks (Russian)\n",
    "#Democratic Debate"
   ]
  },
  {
   "cell_type": "code",
   "execution_count": 0,
   "metadata": {
    "colab": {},
    "colab_type": "code",
    "id": "wPh6Wng27q1Y"
   },
   "outputs": [],
   "source": [
    "df_Oct2016['clean_tweet'] = df_Oct2016.tweet.apply(clean_tweet)\n",
    "\n",
    "# the vectorizer object will be used to transform text to vector form\n",
    "vectorizer = CountVectorizer(max_df=0.9, min_df=25, token_pattern='\\w+|\\$[\\d\\.]+|\\S+')\n",
    "\n",
    "tf = vectorizer.fit_transform(df_Oct2016['clean_tweet']).toarray()\n",
    "\n",
    "# tf_feature_names tells us what word each column in the matric represents\n",
    "tf_feature_names = vectorizer.get_feature_names()"
   ]
  },
  {
   "cell_type": "code",
   "execution_count": 0,
   "metadata": {
    "colab": {},
    "colab_type": "code",
    "id": "8MIEryIe7q1a"
   },
   "outputs": [],
   "source": [
    "from sklearn.decomposition import LatentDirichletAllocation\n",
    "\n",
    "number_of_topics = 10\n",
    "\n",
    "model = LatentDirichletAllocation(n_components=number_of_topics, random_state=0)"
   ]
  },
  {
   "cell_type": "code",
   "execution_count": 0,
   "metadata": {
    "colab": {},
    "colab_type": "code",
    "id": "pC_Y3gT07q1c"
   },
   "outputs": [],
   "source": [
    "model.fit(tf)"
   ]
  },
  {
   "cell_type": "code",
   "execution_count": 0,
   "metadata": {
    "colab": {},
    "colab_type": "code",
    "id": "U48XGqxg7q1e",
    "scrolled": true
   },
   "outputs": [],
   "source": [
    "no_top_words = 10\n",
    "display_topics(model, tf_feature_names, no_top_words)"
   ]
  },
  {
   "cell_type": "code",
   "execution_count": 0,
   "metadata": {
    "colab": {},
    "colab_type": "code",
    "id": "2bBX3PL77q1g"
   },
   "outputs": [],
   "source": [
    "#Major Topics of Discussions \n",
    "#Media bias Against White people\n",
    "#Hurricane Matthew\n",
    "#Police Brutality\n",
    "#Turkey\n",
    "#Better Alternative Debates\n",
    "\n",
    "#Koch Farms Misinformation Campaign"
   ]
  },
  {
   "cell_type": "code",
   "execution_count": 0,
   "metadata": {
    "colab": {},
    "colab_type": "code",
    "id": "9YW539k67q1i"
   },
   "outputs": [],
   "source": [
    "df_Nov2016['clean_tweet'] = df_Nov2016.tweet.apply(clean_tweet)\n",
    "\n",
    "# the vectorizer object will be used to transform text to vector form\n",
    "vectorizer = CountVectorizer(max_df=0.9, min_df=25, token_pattern='\\w+|\\$[\\d\\.]+|\\S+')\n",
    "\n",
    "tf = vectorizer.fit_transform(df_Nov2016['clean_tweet']).toarray()\n",
    "\n",
    "# tf_feature_names tells us what word each column in the matric represents\n",
    "tf_feature_names = vectorizer.get_feature_names()"
   ]
  },
  {
   "cell_type": "code",
   "execution_count": 0,
   "metadata": {
    "colab": {},
    "colab_type": "code",
    "id": "BcHwkuD17q1l"
   },
   "outputs": [],
   "source": [
    "from sklearn.decomposition import LatentDirichletAllocation\n",
    "\n",
    "number_of_topics = 15\n",
    "\n",
    "model = LatentDirichletAllocation(n_components=number_of_topics, random_state=0)"
   ]
  },
  {
   "cell_type": "code",
   "execution_count": 0,
   "metadata": {
    "colab": {},
    "colab_type": "code",
    "id": "wVRslqVD7q1m"
   },
   "outputs": [],
   "source": [
    "model.fit(tf)\n"
   ]
  },
  {
   "cell_type": "code",
   "execution_count": 0,
   "metadata": {
    "colab": {},
    "colab_type": "code",
    "id": "kt5YqhTM7q1o"
   },
   "outputs": [],
   "source": [
    "no_top_words = 20\n",
    "display_topics(model, tf_feature_names, no_top_words)"
   ]
  },
  {
   "cell_type": "code",
   "execution_count": 0,
   "metadata": {
    "colab": {},
    "colab_type": "code",
    "id": "W6fsxodT7q1q"
   },
   "outputs": [],
   "source": [
    "df_Aug2017['clean_tweet'] = df_Aug2017.tweet.apply(clean_tweet)\n",
    "\n",
    "# the vectorizer object will be used to transform text to vector form\n",
    "vectorizer = CountVectorizer(max_df=0.9, min_df=25, token_pattern='\\w+|\\$[\\d\\.]+|\\S+')\n",
    "\n",
    "tf = vectorizer.fit_transform(df_Aug2017['clean_tweet']).toarray()\n",
    "\n",
    "# tf_feature_names tells us what word each column in the matric represents\n",
    "tf_feature_names = vectorizer.get_feature_names()"
   ]
  },
  {
   "cell_type": "code",
   "execution_count": 0,
   "metadata": {
    "colab": {},
    "colab_type": "code",
    "id": "sJA8lhgO7q1r"
   },
   "outputs": [],
   "source": [
    "from sklearn.decomposition import LatentDirichletAllocation\n",
    "\n",
    "number_of_topics = 15\n",
    "\n",
    "model = LatentDirichletAllocation(n_components=number_of_topics, random_state=0)"
   ]
  },
  {
   "cell_type": "code",
   "execution_count": 0,
   "metadata": {
    "colab": {},
    "colab_type": "code",
    "id": "sADhfuTs7q1s"
   },
   "outputs": [],
   "source": [
    "model.fit(tf)\n"
   ]
  },
  {
   "cell_type": "code",
   "execution_count": 0,
   "metadata": {
    "colab": {},
    "colab_type": "code",
    "id": "CCqrxCfM7q1u"
   },
   "outputs": [],
   "source": [
    "no_top_words = 20\n",
    "display_topics(model, tf_feature_names, no_top_words)"
   ]
  },
  {
   "cell_type": "code",
   "execution_count": 0,
   "metadata": {
    "colab": {},
    "colab_type": "code",
    "id": "ctQnPnJP7q1w"
   },
   "outputs": [],
   "source": [
    "df_Sep2016['clean_tweet'] = df_Sep2016.tweet.apply(clean_tweet)\n",
    "\n",
    "# the vectorizer object will be used to transform text to vector form\n",
    "vectorizer = CountVectorizer(max_df=0.9, min_df=25, token_pattern='\\w+|\\$[\\d\\.]+|\\S+')\n",
    "\n",
    "tf = vectorizer.fit_transform(df_Sep2016['clean_tweet']).toarray()\n",
    "\n",
    "# tf_feature_names tells us what word each column in the matric represents\n",
    "tf_feature_names = vectorizer.get_feature_names()"
   ]
  },
  {
   "cell_type": "code",
   "execution_count": 0,
   "metadata": {
    "colab": {},
    "colab_type": "code",
    "id": "f172ghJNIn7D"
   },
   "outputs": [],
   "source": [
    "from sklearn.decomposition import LatentDirichletAllocation\n",
    "\n",
    "number_of_topics = 15\n",
    "\n",
    "model = LatentDirichletAllocation(n_components=number_of_topics, random_state=0)"
   ]
  },
  {
   "cell_type": "code",
   "execution_count": 0,
   "metadata": {
    "colab": {},
    "colab_type": "code",
    "id": "QTC_n81gVMj0"
   },
   "outputs": [],
   "source": [
    "model.fit(tf)"
   ]
  },
  {
   "cell_type": "code",
   "execution_count": 0,
   "metadata": {
    "colab": {},
    "colab_type": "code",
    "id": "T5PNkd6CVPWb"
   },
   "outputs": [],
   "source": [
    "no_top_words = 20\n",
    "display_topics(model, tf_feature_names, no_top_words)"
   ]
  },
  {
   "cell_type": "code",
   "execution_count": 0,
   "metadata": {
    "colab": {},
    "colab_type": "code",
    "id": "tENyaeYOW8VI"
   },
   "outputs": [],
   "source": [
    "df_Jul2015['clean_tweet'] = df_Jul2015.tweet.apply(clean_tweet)\n",
    "\n",
    "# the vectorizer object will be used to transform text to vector form\n",
    "vectorizer = CountVectorizer(max_df=0.9, min_df=25, token_pattern='\\w+|\\$[\\d\\.]+|\\S+')\n",
    "\n",
    "tf = vectorizer.fit_transform(df_Jul2015['clean_tweet']).toarray()\n",
    "\n",
    "# tf_feature_names tells us what word each column in the matric represents\n",
    "tf_feature_names = vectorizer.get_feature_names()"
   ]
  },
  {
   "cell_type": "code",
   "execution_count": 0,
   "metadata": {
    "colab": {},
    "colab_type": "code",
    "id": "KMIFICyfXF1L"
   },
   "outputs": [],
   "source": [
    "from sklearn.decomposition import LatentDirichletAllocation\n",
    "\n",
    "number_of_topics = 15\n",
    "\n",
    "model = LatentDirichletAllocation(n_components=number_of_topics, random_state=0)"
   ]
  },
  {
   "cell_type": "code",
   "execution_count": 0,
   "metadata": {
    "colab": {},
    "colab_type": "code",
    "id": "51JUzvMhXKQx"
   },
   "outputs": [],
   "source": [
    "model.fit(tf)"
   ]
  },
  {
   "cell_type": "code",
   "execution_count": 0,
   "metadata": {
    "colab": {},
    "colab_type": "code",
    "id": "_mYlTmVxXMiq"
   },
   "outputs": [],
   "source": [
    "no_top_words = 20\n",
    "display_topics(model, tf_feature_names, no_top_words)"
   ]
  }
 ],
 "metadata": {
  "colab": {
   "name": "Topic Modeling (1).ipynb.html",
   "provenance": [],
   "version": "0.3.2"
  },
  "kernelspec": {
   "display_name": "Python 3",
   "language": "python",
   "name": "python3"
  },
  "language_info": {
   "codemirror_mode": {
    "name": "ipython",
    "version": 3
   },
   "file_extension": ".py",
   "mimetype": "text/x-python",
   "name": "python",
   "nbconvert_exporter": "python",
   "pygments_lexer": "ipython3",
   "version": "3.6.8"
  }
 },
 "nbformat": 4,
 "nbformat_minor": 1
}
